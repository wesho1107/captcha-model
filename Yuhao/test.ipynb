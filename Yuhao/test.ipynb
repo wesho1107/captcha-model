{
 "cells": [
  {
   "cell_type": "code",
   "execution_count": 47,
   "id": "a9148b5f",
   "metadata": {},
   "outputs": [],
   "source": [
    "import cv2\n",
    "import numpy as np\n",
    "import matplotlib.pyplot as plt\n",
    "fresh_name = \"../data/0-7/0hox6-0.png\"\n",
    "img = cv2.imread(fresh_name, 0)\n",
    "cv2.imshow(\"img\", img)\n",
    "cv2.waitKey(0)\n",
    "cv2.destroyAllWindows()"
   ]
  },
  {
   "cell_type": "code",
   "execution_count": 48,
   "id": "25b85061",
   "metadata": {},
   "outputs": [],
   "source": [
    "# 2a. Apply median filtering to reduce noise and display the result.\n",
    "# img = cv2.medianBlur(img, 5)\n",
    "# cv2.imshow(\"img\", img)\n",
    "# cv2.waitKey(0)\n",
    "# cv2.destroyAllWindows()"
   ]
  },
  {
   "cell_type": "code",
   "execution_count": 49,
   "id": "0a02c6e4",
   "metadata": {},
   "outputs": [],
   "source": [
    "# 2b. Got smearing? consider using an inpainting technique to clean up the image.\n",
    "mask = (img < 30).astype(np.uint8) * 255\n",
    "img = cv2.inpaint(img, mask, 3, cv2.INPAINT_TELEA)\n",
    "cv2.imshow(\"img\", img)\n",
    "cv2.waitKey(0)\n",
    "cv2.destroyAllWindows()"
   ]
  },
  {
   "cell_type": "code",
   "execution_count": 50,
   "id": "5245b723",
   "metadata": {},
   "outputs": [],
   "source": [
    "# 3** This tool should only be applied if you suspect the letters are broken into pieces.\n",
    "# simple heuristic: if the number of contours detected is more than the expected number of letters\n",
    "# kernel = np.ones((3, 3), np.uint8)\n",
    "# img = cv2.erode(img, kernel, iterations=2)\n",
    "# img = cv2.dilate(img, kernel, iterations=2)\n",
    "# cv2.imshow(\"img\", img)\n",
    "# cv2.waitKey(0)\n",
    "# cv2.destroyAllWindows()"
   ]
  },
  {
   "cell_type": "code",
   "execution_count": 51,
   "id": "c7f29e6f",
   "metadata": {},
   "outputs": [],
   "source": [
    "bounding_boxes = []\n",
    "threshed_img = img.copy()\n",
    "ret, thresh = cv2.threshold(threshed_img, 250, 255, cv2.THRESH_BINARY_INV)\n",
    "contours, hierarchy = cv2.findContours(thresh, cv2.RETR_TREE, cv2.CHAIN_APPROX_SIMPLE)\n",
    "\n",
    "img = cv2.imread(fresh_name)  # Read in color for drawing\n",
    "for i, c in enumerate(contours):\n",
    "    parent = hierarchy[0][i][3]\n",
    "    if parent != -1:  # Skip if it has a parent contour    \n",
    "        continue\n",
    "    x, y, w, h = cv2.boundingRect(c)\n",
    "    bounding_boxes.append((x, y, w, h))\n",
    "    cv2.rectangle(img, (x, y), (x + w, y + h), (255, 0, 0), 2)"
   ]
  },
  {
   "cell_type": "code",
   "execution_count": 52,
   "id": "1e233ada",
   "metadata": {},
   "outputs": [],
   "source": [
    "cv2.imshow(\"img\", img)\n",
    "cv2.waitKey(0)\n",
    "cv2.destroyAllWindows()\n"
   ]
  },
  {
   "cell_type": "code",
   "execution_count": 53,
   "id": "8c515032",
   "metadata": {},
   "outputs": [],
   "source": [
    "# Tool to sort bounding boxes based on their leftmost x-coordinate\n",
    "def sort_bounding_boxes(boxes):\n",
    "    return sorted(boxes, key=lambda box: box[0])\n",
    "bounding_boxes = sort_bounding_boxes(bounding_boxes)"
   ]
  },
  {
   "cell_type": "code",
   "execution_count": 54,
   "id": "bbbafc82",
   "metadata": {},
   "outputs": [
    {
     "name": "stdout",
     "output_type": "stream",
     "text": [
      "Unique colors: 70\n",
      "Color: [255 255 255], Count: 298\n",
      "Color: [ 91 201 147], Count: 152\n",
      "Color: [172 195 142], Count: 98\n",
      "Color: [0 0 0], Count: 29\n",
      "Color: [160 224 192], Count: 25\n",
      "Color: [252 254 253], Count: 20\n",
      "Color: [ 96 202 150], Count: 13\n",
      "Color: [152 221 187], Count: 13\n"
     ]
    }
   ],
   "source": [
    "# Find a way to learn how many colors are in a contour, if more than 1 there's overlapped letters in the same box\n",
    "img = cv2.imread(fresh_name)  # Read in fresh image without the bounding boxes\n",
    "focus = bounding_boxes[0]\n",
    "x, y, w, h = focus\n",
    "roi = img[y:y + h, x:x + w]\n",
    "# try and see how many unique colors are in this roi\n",
    "roi_rgb = roi.reshape(-1, 3)\n",
    "colors, counts = np.unique(roi_rgb, axis=0, return_counts=True)\n",
    "print(f\"Unique colors: {len(colors)}\")\n",
    "# sort by leftmost pixel\n",
    "top_color_counts = sorted(zip(counts, colors), key=lambda x: x[0], reverse=True)\n",
    "# look at top 5 colors\n",
    "for count, color in top_color_counts[:8]:\n",
    "    print(f\"Color: {color}, Count: {count}\")\n"
   ]
  },
  {
   "cell_type": "code",
   "execution_count": 55,
   "id": "ad5dcf90",
   "metadata": {},
   "outputs": [],
   "source": [
    "# uncomment if scikit-learn is not installed\n",
    "# !{sys.executable} -m pip install scikit-learn"
   ]
  },
  {
   "cell_type": "code",
   "execution_count": 56,
   "id": "803a8a45",
   "metadata": {},
   "outputs": [
    {
     "name": "stdout",
     "output_type": "stream",
     "text": [
      "Usable colors: 6\n",
      "Usable color counts: [np.int64(152), np.int64(98), np.int64(25), np.int64(20), np.int64(13), np.int64(13)]\n",
      "Estimated number of colors (k): 2\n"
     ]
    }
   ],
   "source": [
    "# ignoring near white and near black colors\n",
    "usable_colors = []\n",
    "usable_counts = []\n",
    "for count, color in top_color_counts[:8]:\n",
    "    if np.linalg.norm(color - 255) > 5 and np.linalg.norm(color) > 5 and count > w * h * 0.01:\n",
    "        usable_colors.append(color)\n",
    "        usable_counts.append(count)\n",
    "\n",
    "if len(usable_counts) == 0:\n",
    "    print(\"No usable colors found.\")\n",
    "    exit(0)\n",
    "elif(len(usable_counts) == 1):\n",
    "    print(\"Only one usable color found. Estimated number of colors (k): 1\")\n",
    "    exit(0)\n",
    "\n",
    "print(f\"Usable colors: {len(usable_colors)}\")\n",
    "print(\"Usable color counts:\", usable_counts)\n",
    "# the arrays should already be sorted by count\n",
    "# find sharp dropoff\n",
    "ratios = usable_counts[:-1] / np.array(usable_counts[1:]) + 1e-5  # avoid div by 0\n",
    "est_k = np.argmax(ratios) + 1\n",
    "\n",
    "print(f\"Estimated number of colors (k): {est_k}\")"
   ]
  },
  {
   "cell_type": "code",
   "execution_count": null,
   "id": "6cfe7da1",
   "metadata": {},
   "outputs": [],
   "source": []
  }
 ],
 "metadata": {
  "kernelspec": {
   "display_name": ".venv",
   "language": "python",
   "name": "python3"
  },
  "language_info": {
   "codemirror_mode": {
    "name": "ipython",
    "version": 3
   },
   "file_extension": ".py",
   "mimetype": "text/x-python",
   "name": "python",
   "nbconvert_exporter": "python",
   "pygments_lexer": "ipython3",
   "version": "3.10.11"
  }
 },
 "nbformat": 4,
 "nbformat_minor": 5
}
